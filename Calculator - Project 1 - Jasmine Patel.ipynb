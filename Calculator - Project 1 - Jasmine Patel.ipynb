{
 "cells": [
  {
   "cell_type": "markdown",
   "id": "9439acf9",
   "metadata": {},
   "source": [
    "# Calculates some of the basic math calculations "
   ]
  },
  {
   "cell_type": "code",
   "execution_count": 2,
   "id": "6fa35c3f",
   "metadata": {},
   "outputs": [],
   "source": [
    "import sympy as sp"
   ]
  },
  {
   "cell_type": "code",
   "execution_count": 3,
   "id": "1fe23d70",
   "metadata": {
    "scrolled": false
   },
   "outputs": [
    {
     "name": "stdout",
     "output_type": "stream",
     "text": [
      "\n",
      "Options:\n",
      "1. Perform arithmetic operation\n",
      "2. Integrate\n",
      "3. Differentiate\n",
      "4. Quit\n",
      "Enter choice (1-4):1\n",
      "Enter arithmetic expression:5+5\n",
      "Result: 10\n",
      "\n",
      "Options:\n",
      "1. Perform arithmetic operation\n",
      "2. Integrate\n",
      "3. Differentiate\n",
      "4. Quit\n",
      "Enter choice (1-4):2\n",
      "Enter expression to integratex\n",
      "Integral: x**2/2\n",
      "\n",
      "Options:\n",
      "1. Perform arithmetic operation\n",
      "2. Integrate\n",
      "3. Differentiate\n",
      "4. Quit\n",
      "Enter choice (1-4):3\n",
      "Enter expression to Differentiatex\n",
      "Derivative: 1\n",
      "\n",
      "Options:\n",
      "1. Perform arithmetic operation\n",
      "2. Integrate\n",
      "3. Differentiate\n",
      "4. Quit\n",
      "Enter choice (1-4):4\n",
      "Byeee!\n"
     ]
    }
   ],
   "source": [
    "def calculator():\n",
    "    while True: \n",
    "        print (\"\\nOptions:\")\n",
    "        print(\"1. Perform arithmetic operation\")\n",
    "        print(\"2. Integrate\")\n",
    "        print(\"3. Differentiate\")\n",
    "        print(\"4. Quit\")\n",
    "        \n",
    "        choice = input(\"Enter choice (1-4):\")\n",
    "        \n",
    "        if choice =='1':\n",
    "            expression = input(\"Enter arithmetic expression:\")\n",
    "            result = eval(expression)\n",
    "            print(\"Result:\", result)\n",
    "        \n",
    "        elif choice == '2':\n",
    "            expression = input(\"Enter expression to integrate\")\n",
    "            x = sp.symbols('x')\n",
    "            integral = sp.integrate(expression,x)\n",
    "            print(\"Integral:\", integral)\n",
    "        \n",
    "        elif choice == '3':\n",
    "            expression = input(\"Enter expression to Differentiate\")\n",
    "            x = sp.symbols('x')\n",
    "            derivative = sp.diff(expression, x)\n",
    "            print(\"Derivative:\", derivative)\n",
    "            \n",
    "        elif choice == '4':\n",
    "            print(\"Byeee!\")\n",
    "            break\n",
    "        \n",
    "        else: \n",
    "            print(\"Invalid choice. Please enter a number between 1 and 4.\")\n",
    "\n",
    "if __name__ ==\"__main__\":\n",
    "    calculator()"
   ]
  },
  {
   "cell_type": "code",
   "execution_count": null,
   "id": "85f2579b",
   "metadata": {},
   "outputs": [],
   "source": []
  }
 ],
 "metadata": {
  "kernelspec": {
   "display_name": "Python 3 (ipykernel)",
   "language": "python",
   "name": "python3"
  },
  "language_info": {
   "codemirror_mode": {
    "name": "ipython",
    "version": 3
   },
   "file_extension": ".py",
   "mimetype": "text/x-python",
   "name": "python",
   "nbconvert_exporter": "python",
   "pygments_lexer": "ipython3",
   "version": "3.11.5"
  }
 },
 "nbformat": 4,
 "nbformat_minor": 5
}
