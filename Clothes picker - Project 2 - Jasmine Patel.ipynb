{
 "cells": [
  {
   "cell_type": "markdown",
   "id": "eb73acd0",
   "metadata": {},
   "source": [
    "# Picks the clothes for my mom"
   ]
  },
  {
   "cell_type": "code",
   "execution_count": 2,
   "id": "2ba145f3",
   "metadata": {},
   "outputs": [],
   "source": [
    "import random"
   ]
  },
  {
   "cell_type": "code",
   "execution_count": 19,
   "id": "4ea26ce8",
   "metadata": {},
   "outputs": [
    {
     "name": "stdout",
     "output_type": "stream",
     "text": [
      "\n",
      "OOTD:\n",
      "Shirts:Amazon shirt\n",
      "Bottoms:Shorts\n",
      "Shoes:Boots\n",
      "Color:Blue\n"
     ]
    }
   ],
   "source": [
    "def pick_outfit():\n",
    "    shirts = [\"Amazon shirt\", \"Blouse\", \"Sweather\", \"sweatshirt\" \"full-sleeved top\", \"half-sleeved top\"]\n",
    "    bottoms = [\"sweatpants\", \"Jeans\", \"Shorts\", \"leggings\"]\n",
    "    shoes = [\"sneakers\", \"flats\", \"Boots\", \"Sandels\"]\n",
    "    colors = [\"Red\", \"Blue\", \"Yellow\", \"Brown\", \"Pink\", \"Purple\", \"white\", \"Black\"]\n",
    "    selected_shirts = random.choice(shirts)\n",
    "    selected_bottoms = random.choice(bottoms)\n",
    "    selected_shoes = random.choice(shoes)\n",
    "    selected_color = random.choice(colors)\n",
    "    print(\"\\nOOTD:\")\n",
    "    print(f\"Shirts:{selected_shirts}\")\n",
    "    print(f\"Bottoms:{selected_bottoms}\")\n",
    "    print(f\"Shoes:{selected_shoes}\")\n",
    "    print(f\"Color:{selected_color}\")\n",
    "if __name__ == \"__main__\":\n",
    "    pick_outfit()"
   ]
  },
  {
   "cell_type": "code",
   "execution_count": null,
   "id": "3072b628",
   "metadata": {},
   "outputs": [],
   "source": []
  },
  {
   "cell_type": "code",
   "execution_count": null,
   "id": "b4eec007",
   "metadata": {},
   "outputs": [],
   "source": []
  }
 ],
 "metadata": {
  "kernelspec": {
   "display_name": "Python 3 (ipykernel)",
   "language": "python",
   "name": "python3"
  },
  "language_info": {
   "codemirror_mode": {
    "name": "ipython",
    "version": 3
   },
   "file_extension": ".py",
   "mimetype": "text/x-python",
   "name": "python",
   "nbconvert_exporter": "python",
   "pygments_lexer": "ipython3",
   "version": "3.11.5"
  }
 },
 "nbformat": 4,
 "nbformat_minor": 5
}
